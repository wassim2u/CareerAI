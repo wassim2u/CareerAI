{
 "cells": [
  {
   "cell_type": "code",
   "execution_count": 1,
   "metadata": {},
   "outputs": [
    {
     "name": "stdout",
     "output_type": "stream",
     "text": [
      "I can definitely help you with your job application! To provide you with detailed feedback, I need a bit more information about your goals. Please answer the following questions:\n",
      "\n",
      "1. **What specifically are you hoping to gain from this role?** Are you looking for a research-focused position, or are you interested in applying your skills to a product development team?\n",
      "2. **What are your career aspirations?** Do you see yourself staying in research long-term, or are you looking for opportunities to transition into a different role in the future?\n",
      "3. **What aspects of the Senior Research Scientist role at Google Research are most appealing to you?** What specific projects or research areas are you passionate about?\n",
      "\n",
      "Once I have a better understanding of your goals and aspirations, I can provide you with personalized feedback on your resume and tell you if you are a good fit for the role. I can also recommend courses on Google and Coursera to help you upgrade your skills, if needed.\n",
      "\n",
      "To provide you with a visual representation of my feedback, I will create a table that includes:\n",
      "\n",
      "* **Skills and Experience:** A list of skills and experience mentioned in the job description, along with your relevant skills and experience from your resume.\n",
      "* **Match:** A column indicating whether your skills and experience are a good match for the job description, a possible match, or not a match.\n",
      "* **Recommendations:** Suggestions for how to improve your resume and skills to better align with the job description.\n",
      "\n",
      "I look forward to helping you with your job application! \n",
      "\n"
     ]
    }
   ],
   "source": [
    "import pathlib\n",
    "import google.generativeai as genai\n",
    "import os\n",
    "\n",
    "GOOGLE_API_KEY = os.getenv('GOOGLE_API_KEY')\n",
    "genai.configure(api_key=GOOGLE_API_KEY)\n",
    "model = genai.GenerativeModel('gemini-1.5-flash')\n",
    "\n",
    "chat = model.start_chat(history=[])\n",
    "\n",
    "\n",
    "cookie_picture = {\n",
    "    'mime_type': 'image/jpeg',\n",
    "    'data': pathlib.Path(\"/Users/wassim/Documents/Projects/LevelUp/Resume.jpg\").read_bytes()\n",
    "}\n",
    "introduction_prompt = \"I would like some help with job application. Please find my resume attached. \\\n",
    "Here is the job description I want to apply to. Please give me detailed feedback, and tell me if I fit the role. Please ask me three questions you would like me to answer if you would like more information before giving a feedback.\\\n",
    "Please also, after the feedback, provide some courses in Google and/or Coursera if needed to upgrade my skills. Could you also provide some table structured information along with the feedback to have data visualisation for me based on the feedback, job description, and resume? For example, i want some information that can showcase my : \"\n",
    "extra_prompt = \"Please note the number of years of experience, and the seniority of the role. Indicate whether i need more experience to be able to fit within the role. Watch out for unconsious bias.\"\n",
    "question_prompt = \"\" #Additional answers to questions asked by Gemini.\n",
    "job_text_file = open(\"../../careers/tech/example.txt\")\n",
    "job_text = job_text_file.read()\n",
    "job_text_link = \"https://www.google.com/about/careers/applications/jobs/results/142343026188919494-senior-research-scientist-google-research\"\n",
    "prompt = introduction_prompt +  job_text_link\n",
    "response = chat.send_message(\n",
    "    [prompt, cookie_picture]\n",
    ")\n",
    "print(response.text)      \n",
    "\n",
    "    \n",
    "    \n",
    "job_text_file.close()\n",
    "\n",
    "\n",
    "\n",
    "\n",
    "\n",
    "\n",
    "\n",
    "\n"
   ]
  },
  {
   "cell_type": "markdown",
   "metadata": {},
   "source": [
    "1. I want to join in a research-focuesed position! I don't know how to reach to that stage. And I am not sure if i am more interested in applying my skills to the product development team. what are the core skills?\n",
    "2. I would like to stay in research, maybe.\n",
    "3. I want to work at Google. They work in the cutting edge technology.\n"
   ]
  },
  {
   "cell_type": "code",
   "execution_count": 6,
   "metadata": {},
   "outputs": [
    {
     "name": "stdout",
     "output_type": "stream",
     "text": [
      "It sounds like you're passionate about research and excited about the cutting-edge technology at Google! That's a great starting point. Let's break down your questions and how to get you on that research path:\n",
      "\n",
      "**1. Research-Focused Position: Reaching That Stage**\n",
      "\n",
      "* **Understanding the Research Landscape:** \n",
      "    * **Google AI Blog:** Stay updated on Google Research's latest projects and areas of focus (https://ai.googleblog.com/).\n",
      "    * **Publications:** Read papers by Google researchers on arXiv (https://arxiv.org/) or in journals like Nature, Science, and PNAS. \n",
      "    * **Conferences:** Attend AI conferences like NeurIPS, ICML, and ICLR to hear research presentations and network.\n",
      "* **Targeted Skill Development:** \n",
      "    * **Deep Learning:**  Mastering deep learning is crucial. Take online courses (Coursera, Google AI Platform) and work on personal projects to gain hands-on experience.\n",
      "    * **Research Methodology:** Practice designing and conducting your own experiments, analyze data, and learn to interpret results. This could involve replicating research papers or working on open-source projects.\n",
      "* **Building Your Portfolio:** \n",
      "    * **Publications:** Aim for publishing in conferences or journals, even if it's in niche areas.\n",
      "    * **GitHub:** Showcase your code, projects, and research contributions in a well-organized GitHub profile.\n",
      "    * **Personal Website:** Create a website to present your research and publications, showcasing your expertise.\n",
      "* **Networking:** \n",
      "    * **Connect with Google Researchers:** Attend talks and workshops hosted by Google AI, or find researchers in areas of interest on LinkedIn. \n",
      "    * **Reach out:** If you have relevant experience or projects, consider emailing Google researchers for informational interviews. \n",
      "\n",
      "**2. Staying in Research**\n",
      "\n",
      "* **Research Roles:**  Focus your resume and cover letter on research skills and experience. Highlight your passion for AI research and the specific areas that excite you. \n",
      "* **PhD or Further Studies:**  If you're open to it, a PhD can be a strong path for a research career. Consider pursuing a PhD in AI or related fields.\n",
      "\n",
      "**3. Google and Cutting-Edge Technology**\n",
      "\n",
      "* **Core Skills:**\n",
      "    * **Deep Learning:** Essential. Google is a leader in this field, so demonstrate your mastery of various architectures and frameworks.\n",
      "    * **Research Methodology:** You need to design, conduct, and analyze your own research effectively. \n",
      "    * **Programming Fluency:**  Python and C++ are Google's main languages.  \n",
      "    * **Communication:** You need to explain your research clearly, both in writing and presentations.\n",
      "\n",
      "**Additional Tips:**\n",
      "\n",
      "* **Target Specific Teams:** Identify Google Research teams that align with your interests (e.g., Google AI for Social Good, Google Brain). \n",
      "* **Tailor Your Resume:**  Customize your resume for each application, highlighting skills and experience relevant to the specific position and team.\n",
      "* **Networking is Key:** Attending conferences, online communities, and even finding Google researchers on LinkedIn can help you make valuable connections. \n",
      "\n",
      "Remember, it's a journey to reach a research role at Google. Stay persistent, keep learning, and showcase your passion and capabilities effectively. \n",
      "\n"
     ]
    }
   ],
   "source": [
    "my_reply= \"1.I want to join in a research-focuesed position! I don't know how to reach to that stage.\\\n",
    "And I am not sure if i am more interested in applying my skills to the product development team. what are the core skills?\\\n",
    "2.I would like to stay in research, maybe.\\\n",
    "3.I want to work at Google. They work in the cutting edge technology.\"\n",
    "response = chat.send_message(\n",
    "    [my_reply, cookie_picture]\n",
    ")\n",
    "print(response.text)      \n"
   ]
  },
  {
   "cell_type": "code",
   "execution_count": 7,
   "metadata": {},
   "outputs": [
    {
     "name": "stdout",
     "output_type": "stream",
     "text": [
      "An AI career guidance app can offer a wide range of analyses to help users understand their career options and make informed decisions. Here are some examples:\n",
      "\n",
      "**1. Skills and Interests Analysis:**\n",
      "\n",
      "* **Skill Assessment:** Analyze the user's skills based on their resume, work experience, education, and even online activities like coding repositories or online courses. It can identify both hard skills (technical) and soft skills (communication, teamwork, etc.).\n",
      "* **Interest Assessment:** Use surveys, questionnaires, or even analyze online browsing history and social media to understand the user's areas of interest, passions, and preferred work environments.\n",
      "\n",
      "**2. Career Path and Job Market Analysis:**\n",
      "\n",
      "* **Career Path Mapping:**  Based on skills, interests, and potential future goals, the app can suggest potential career paths, including short-term and long-term options.\n",
      "* **Job Market Trends:** Provide insights into the current and future job market, including in-demand skills, salary expectations, and growth potential for specific roles.\n",
      "* **Job Recommendation:**  Based on the user's profile, it can recommend relevant job openings, both general and specialized.\n",
      "* **Competitor Analysis:** Compare the user's skills and experience to those of other professionals in similar fields, helping them understand their competitive edge.\n",
      "\n",
      "**3.  Personalized Insights and Guidance:**\n",
      "\n",
      "* **Gap Analysis:**  Identify skills gaps between the user's current abilities and the requirements of their target career path. Suggest courses, certifications, or projects to bridge those gaps.\n",
      "* **Learning Path Recommendations:**  Propose customized learning paths, including online courses, boot camps, or even internships, to acquire the necessary skills for a specific career.\n",
      "* **Resume and Cover Letter Optimization:** Offer suggestions and feedback on the user's resume and cover letter to make them more effective for target jobs.\n",
      "* **Interview Preparation:** Provide mock interviews, interview tips, and resources to help users prepare for job interviews.\n",
      "* **Networking Recommendations:**  Suggest relevant professional networking events or online communities to connect with potential mentors or employers.\n",
      "\n",
      "**4.  Advanced AI-Powered Features:**\n",
      "\n",
      "* **Sentiment Analysis:** Analyze the user's feelings about their career options and offer tailored guidance based on their emotional response.\n",
      "* **Natural Language Processing (NLP):** Analyze user text inputs (e.g., career goals, questions) to provide more nuanced and personalized responses.\n",
      "* **Machine Learning:**  Use algorithms to predict career success based on the user's profile, market trends, and historical data.\n",
      "\n",
      "**Overall, an AI career guidance app can be a powerful tool to help users understand their strengths, explore potential career options, and navigate the job market with confidence. By leveraging data analysis, machine learning, and personalized insights, these apps can make the career exploration process more efficient and empowering.**\n",
      "\n"
     ]
    }
   ],
   "source": [
    "my_reply = \"What kind of analysis that an AI Career Guidance app can give?\"\n",
    "response = chat.send_message(\n",
    "    [my_reply]\n",
    ")\n",
    "print(response.text)    "
   ]
  },
  {
   "cell_type": "code",
   "execution_count": null,
   "metadata": {},
   "outputs": [],
   "source": []
  }
 ],
 "metadata": {
  "kernelspec": {
   "display_name": "Python 3 (ipykernel)",
   "language": "python",
   "name": "python3"
  },
  "language_info": {
   "codemirror_mode": {
    "name": "ipython",
    "version": 3
   },
   "file_extension": ".py",
   "mimetype": "text/x-python",
   "name": "python",
   "nbconvert_exporter": "python",
   "pygments_lexer": "ipython3",
   "version": "3.10.14"
  }
 },
 "nbformat": 4,
 "nbformat_minor": 4
}
