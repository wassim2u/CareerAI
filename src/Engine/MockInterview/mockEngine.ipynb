{
 "cells": [
  {
   "cell_type": "code",
   "execution_count": 15,
   "metadata": {},
   "outputs": [
    {
     "name": "stdout",
     "output_type": "stream",
     "text": [
      "The autoreload extension is already loaded. To reload it, use:\n",
      "  %reload_ext autoreload\n"
     ]
    }
   ],
   "source": [
    "import logging\n",
    "import sys\n",
    "\n",
    "import google.generativeai as genai\n",
    "import pathlib\n",
    "import os\n",
    "from mockEngine import MockInterviewEngine\n",
    "from CV.cv import CVImage\n",
    "from Model.models import GeminiModelWrapper\n",
    "\n",
    "logging.basicConfig(format='%(asctime)s | %(levelname)s : %(message)s',\n",
    "                     level=logging.INFO, stream=sys.stdout)\n",
    "\n",
    "\n",
    "%load_ext autoreload\n",
    "%autoreload 2"
   ]
  },
  {
   "cell_type": "code",
   "execution_count": 2,
   "metadata": {},
   "outputs": [],
   "source": [
    "\n",
    "\n",
    "gemini_model_type = 'gemini-1.5-flash'\n",
    "GOOGLE_API_KEY = os.getenv('GOOGLE_API_KEY')\n",
    "genai.configure(api_key=GOOGLE_API_KEY)\n",
    "\n",
    "\n",
    "geminiWrapper = GeminiModelWrapper(gemini_model_type=gemini_model_type, history=[])\n",
    "\n",
    "\n",
    "CVObject = CVImage(image_path=\"/Users/wassim/Documents/Projects/LevelUp/Resume.jpg\", media_type=\"image/jpeg\")\n",
    "job_text_link = \"https://www.google.com/about/careers/applications/jobs/results/142343026188919494-senior-research-scientist-google-research\"\n",
    "\n",
    "mockInterviewEngine = MockInterviewEngine(CV=CVObject, job_description= job_text_link, modelWrapper=geminiWrapper)\n",
    "\n",
    "\n"
   ]
  },
  {
   "cell_type": "code",
   "execution_count": 3,
   "metadata": {},
   "outputs": [
    {
     "name": "stdout",
     "output_type": "stream",
     "text": [
      "2024-07-04 11:54:34,118 | INFO : Starting a new chat session...\n",
      "2024-07-04 11:54:34,120 | INFO : Gemini Text Prompt: You will now play the role of an interviewer for the candidate who wants to apply to the job description listed here. Act as if you are the interviewer for the company listed in the job description.         At the end of the interview, you will generate a detailed feedback report for the user. The feedback should be consistent, logical, and forward-looking.         The feedback should help the user assess their interview skills.  Now, please greet yourself in 1-3 sentences, and ask the first question.        Please refer the user's resume as well for the feedback and for the questions.         Here is the job description that the candidate wants to use: \n",
      ".         https://www.google.com/about/careers/applications/jobs/results/142343026188919494-senior-research-scientist-google-research\n",
      "2024-07-04 11:54:35,692 | INFO : Gemini Response: response:\n",
      "GenerateContentResponse(\n",
      "    done=True,\n",
      "    iterator=None,\n",
      "    result=protos.GenerateContentResponse({\n",
      "      \"candidates\": [\n",
      "        {\n",
      "          \"content\": {\n",
      "            \"parts\": [\n",
      "              {\n",
      "                \"text\": \"Hi [Candidate Name], thanks for coming in today. It's great to meet you.  Tell me a little bit about your background and what drew you to apply for this Senior Research Scientist role at Google Research. \\n\"\n",
      "              }\n",
      "            ],\n",
      "            \"role\": \"model\"\n",
      "          },\n",
      "          \"finish_reason\": \"STOP\",\n",
      "          \"index\": 0,\n",
      "          \"safety_ratings\": [\n",
      "            {\n",
      "              \"category\": \"HARM_CATEGORY_SEXUALLY_EXPLICIT\",\n",
      "              \"probability\": \"NEGLIGIBLE\"\n",
      "            },\n",
      "            {\n",
      "              \"category\": \"HARM_CATEGORY_HATE_SPEECH\",\n",
      "              \"probability\": \"NEGLIGIBLE\"\n",
      "            },\n",
      "            {\n",
      "              \"category\": \"HARM_CATEGORY_HARASSMENT\",\n",
      "              \"probability\": \"NEGLIGIBLE\"\n",
      "            },\n",
      "            {\n",
      "              \"category\": \"HARM_CATEGORY_DANGEROUS_CONTENT\",\n",
      "              \"probability\": \"NEGLIGIBLE\"\n",
      "            }\n",
      "          ]\n",
      "        }\n",
      "      ],\n",
      "      \"usage_metadata\": {\n",
      "        \"prompt_token_count\": 185,\n",
      "        \"candidates_token_count\": 44,\n",
      "        \"total_token_count\": 229\n",
      "      }\n",
      "    }),\n",
      ")\n"
     ]
    }
   ],
   "source": [
    "mockInterviewEngine.start_mock_interview()"
   ]
  },
  {
   "cell_type": "code",
   "execution_count": 10,
   "metadata": {},
   "outputs": [
    {
     "name": "stdout",
     "output_type": "stream",
     "text": [
      "2024-07-04 12:19:03,933 | INFO : Gemini Text Prompt: Given what you asked the candidate, this is their response: **Hi everyone, I'm X. I'm a computer scientist with a passion for machine learning. I'm particularly interested in deep learning for computer vision. I'm excited to learn more about this role and how my skills can contribute to the team.**.         Please ask them a different question\n",
      "2024-07-04 12:19:05,388 | INFO : Gemini Response: response:\n",
      "GenerateContentResponse(\n",
      "    done=True,\n",
      "    iterator=None,\n",
      "    result=protos.GenerateContentResponse({\n",
      "      \"candidates\": [\n",
      "        {\n",
      "          \"content\": {\n",
      "            \"parts\": [\n",
      "              {\n",
      "                \"text\": \"That's a great start, X.  So, you mentioned a passion for deep learning in computer vision. Could you tell me about a specific project or research you've worked on that you're particularly proud of in this area? \\n\"\n",
      "              }\n",
      "            ],\n",
      "            \"role\": \"model\"\n",
      "          },\n",
      "          \"finish_reason\": \"STOP\",\n",
      "          \"index\": 0,\n",
      "          \"safety_ratings\": [\n",
      "            {\n",
      "              \"category\": \"HARM_CATEGORY_SEXUALLY_EXPLICIT\",\n",
      "              \"probability\": \"NEGLIGIBLE\"\n",
      "            },\n",
      "            {\n",
      "              \"category\": \"HARM_CATEGORY_HATE_SPEECH\",\n",
      "              \"probability\": \"NEGLIGIBLE\"\n",
      "            },\n",
      "            {\n",
      "              \"category\": \"HARM_CATEGORY_HARASSMENT\",\n",
      "              \"probability\": \"NEGLIGIBLE\"\n",
      "            },\n",
      "            {\n",
      "              \"category\": \"HARM_CATEGORY_DANGEROUS_CONTENT\",\n",
      "              \"probability\": \"NEGLIGIBLE\"\n",
      "            }\n",
      "          ]\n",
      "        }\n",
      "      ],\n",
      "      \"usage_metadata\": {\n",
      "        \"prompt_token_count\": 307,\n",
      "        \"candidates_token_count\": 49,\n",
      "        \"total_token_count\": 356\n",
      "      }\n",
      "    }),\n",
      ")\n"
     ]
    }
   ],
   "source": [
    "user_reply_1 = \"Hi everyone, I'm X. I'm a computer scientist with a passion for machine learning. I'm particularly interested in deep learning for computer vision. I'm excited to learn more about this role and how my skills can contribute to the team.\"\n",
    "mockInterviewEngine.follow_up_question(user_reponse = user_reply_1)"
   ]
  },
  {
   "cell_type": "code",
   "execution_count": 11,
   "metadata": {},
   "outputs": [],
   "source": [
    "user_reply_2 = \"Absolutely! During one of the university projects, I wasn't directly involved in deep learning research, but I led the development of an Android mobile application that utilized deep learning for real-time activity classification. This project required me to process over a million rows of sensor data to create a real-time activity classification model using sliding windows. Here, my focus was on optimizing a Convolutional Neural Network (CNN) model for mobile implementation by incorporating techniques like Batch Normalization and Dropout. Ultimately, we successfully deployed a TensorFlow Lite-optimized deep learning network for Android, achieving an impressive 96% test accuracy. This project not only solidified my understanding of deep learning concepts but also gave me valuable hands-on experience in applying them to real-world mobile applications with resource constraints/\""
   ]
  },
  {
   "cell_type": "code",
   "execution_count": 16,
   "metadata": {},
   "outputs": [
    {
     "name": "stdout",
     "output_type": "stream",
     "text": [
      "2024-07-04 12:24:22,739 | INFO : Gemini Text Prompt: This is the user's response to your final question for the interview: **Absolutely! During one of the university projects, I wasn't directly involved in deep learning research, but I led the development of an Android mobile application that utilized deep learning for real-time activity classification. This project required me to process over a million rows of sensor data to create a real-time activity classification model using sliding windows. Here, my focus was on optimizing a Convolutional Neural Network (CNN) model for mobile implementation by incorporating techniques like Batch Normalization and Dropout. Ultimately, we successfully deployed a TensorFlow Lite-optimized deep learning network for Android, achieving an impressive 96% test accuracy. This project not only solidified my understanding of deep learning concepts but also gave me valuable hands-on experience in applying them to real-world mobile applications with resource constraints/**.         Given the list of answers to the questions you asked given by the user, please give feedback to how they answered each one:         Please also, after the feedback, provide some courses in Google and/or Coursera if needed to upgrade my skills.\n",
      "2024-07-04 12:24:32,998 | INFO : Gemini Response: response:\n",
      "GenerateContentResponse(\n",
      "    done=True,\n",
      "    iterator=None,\n",
      "    result=protos.GenerateContentResponse({\n",
      "      \"candidates\": [\n",
      "        {\n",
      "          \"content\": {\n",
      "            \"parts\": [\n",
      "              {\n",
      "                \"text\": \"## Interview Feedback:\\n\\n**Overall Impression:**\\n\\nWhile the candidate demonstrated enthusiasm for the role and possesses a solid understanding of deep learning concepts, there are areas for improvement in showcasing their expertise and aligning their skills with the specific needs of the Senior Research Scientist role at Google Research. \\n\\n**Feedback on Individual Answers:**\\n\\n**Question 1: \\\"Tell me a little bit about your background and what drew you to apply for this Senior Research Scientist role at Google Research.\\\"**\\n\\n* **Response:** \\\"Hi everyone, I'm X. I'm a computer scientist with a passion for machine learning. I'm particularly interested in deep learning for computer vision. I'm excited to learn more about this role and how my skills can contribute to the team.\\\" \\n\\n* **Feedback:** This answer is a good start but lacks depth.  While it mentions a passion for machine learning and deep learning for computer vision, it fails to specifically mention any relevant experience or research contributions. The candidate should have highlighted their strongest achievements and the specific aspects of the Google Research role that align with their skills and interests. For instance, mentioning specific research areas within Google Research that resonate with them would have demonstrated further interest and understanding of the company's work. \\n\\n**Question 2: \\\"So, you mentioned a passion for deep learning in computer vision. Could you tell me about a specific project or research you've worked on that you're particularly proud of in this area?\\\"**\\n\\n* **Response:** \\\"Absolutely! During one of the university projects, I wasn't directly involved in deep learning research, but I led the development of an Android mobile application that utilized deep learning for real-time activity classification. This project required me to process over a million rows of sensor data to create a real-time activity classification model using sliding windows. Here, my focus was on optimizing a Convolutional Neural Network (CNN) model for mobile implementation by incorporating techniques like Batch Normalization and Dropout. Ultimately, we successfully deployed a TensorFlow Lite-optimized deep learning network for Android, achieving an impressive 96% test accuracy. This project not only solidified my understanding of deep learning concepts but also gave me valuable hands-on experience in applying them to real-world mobile applications with resource constraints\\\"\\n\\n* **Feedback:** While this answer demonstrates the candidate's ability to work on a project involving deep learning and their understanding of optimization techniques, there are areas for improvement:\\n    * **Focus on Research:** The question specifically asks for a project or research in *computer vision*.  While the candidate mentions deep learning, the activity classification project is more broadly related to time series analysis and sensor data.  It would be beneficial to highlight research experience directly tied to computer vision, even if it's not a lead project. \\n    * **Impact and Contributions:** The candidate focuses on technical details but could have highlighted the impact of their contributions. Did the application achieve any real-world use or have a significant impact on the research community?  \\n    * **Advanced Techniques:** While the project demonstrates optimization skills,  referencing more advanced techniques or research contributions in the field of computer vision would have demonstrated a higher level of expertise. \\n\\n**Overall:** The candidate has a good foundation in deep learning and a strong technical skillset.  However, they need to highlight research experience specifically in computer vision, showcase the impact of their work, and demonstrate a deeper understanding of cutting-edge techniques and research in the field. \\n\\n**Recommended Courses:**\\n\\nTo enhance the candidate's skills and knowledge for this role, I would recommend the following courses:\\n\\n* **Google AI Courses:** \\n    * **TensorFlow for Deep Learning:** [https://developers.google.com/machine-learning/crash-course/](https://developers.google.com/machine-learning/crash-course/) This course provides a comprehensive introduction to TensorFlow and deep learning concepts.\\n    * **Deep Learning Specialization by Andrew Ng (Coursera):** [https://www.coursera.org/specializations/deep-learning](https://www.coursera.org/specializations/deep-learning) This specialization covers a wide range of topics in deep learning, including convolutional neural networks and recurrent neural networks.\\n\\n* **Coursera Courses:**\\n    * **Computer Vision Specialization by University of California, San Diego:** [https://www.coursera.org/specializations/computer-vision](https://www.coursera.org/specializations/computer-vision) This specialization covers the fundamentals of computer vision, including image processing, feature extraction, and object detection.\\n    * **Deep Learning for Computer Vision Specialization by University of California, Berkeley:** [https://www.coursera.org/specializations/deep-learning-computer-vision](https://www.coursera.org/specializations/deep-learning-computer-vision) This specialization focuses on applying deep learning to computer vision tasks, such as object recognition, image segmentation, and video analysis.\\n\\nBy pursuing these courses, the candidate can strengthen their understanding of computer vision and deep learning techniques, which will be crucial for success in a research-oriented role at Google Research. \\n\"\n",
      "              }\n",
      "            ],\n",
      "            \"role\": \"model\"\n",
      "          },\n",
      "          \"finish_reason\": \"STOP\",\n",
      "          \"index\": 0,\n",
      "          \"safety_ratings\": [\n",
      "            {\n",
      "              \"category\": \"HARM_CATEGORY_SEXUALLY_EXPLICIT\",\n",
      "              \"probability\": \"NEGLIGIBLE\"\n",
      "            },\n",
      "            {\n",
      "              \"category\": \"HARM_CATEGORY_HATE_SPEECH\",\n",
      "              \"probability\": \"NEGLIGIBLE\"\n",
      "            },\n",
      "            {\n",
      "              \"category\": \"HARM_CATEGORY_HARASSMENT\",\n",
      "              \"probability\": \"NEGLIGIBLE\"\n",
      "            },\n",
      "            {\n",
      "              \"category\": \"HARM_CATEGORY_DANGEROUS_CONTENT\",\n",
      "              \"probability\": \"NEGLIGIBLE\"\n",
      "            }\n",
      "          ],\n",
      "          \"citation_metadata\": {\n",
      "            \"citation_sources\": [\n",
      "              {\n",
      "                \"start_index\": 4032,\n",
      "                \"end_index\": 4162,\n",
      "                \"uri\": \"https://github.com/erdemuysalx/thoughts\",\n",
      "                \"license_\": \"\"\n",
      "              }\n",
      "            ]\n",
      "          }\n",
      "        }\n",
      "      ],\n",
      "      \"usage_metadata\": {\n",
      "        \"prompt_token_count\": 583,\n",
      "        \"candidates_token_count\": 1061,\n",
      "        \"total_token_count\": 1644\n",
      "      }\n",
      "    }),\n",
      ")\n"
     ]
    }
   ],
   "source": [
    "mockInterviewEngine.end_interview_and_generate_feedback_report(final_user_response = user_reply_2)"
   ]
  },
  {
   "cell_type": "code",
   "execution_count": null,
   "metadata": {},
   "outputs": [],
   "source": []
  }
 ],
 "metadata": {
  "kernelspec": {
   "display_name": "Python 3 (ipykernel)",
   "language": "python",
   "name": "python3"
  },
  "language_info": {
   "codemirror_mode": {
    "name": "ipython",
    "version": 3
   },
   "file_extension": ".py",
   "mimetype": "text/x-python",
   "name": "python",
   "nbconvert_exporter": "python",
   "pygments_lexer": "ipython3",
   "version": "3.10.14"
  }
 },
 "nbformat": 4,
 "nbformat_minor": 4
}
